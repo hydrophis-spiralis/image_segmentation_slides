{
 "cells": [
  {
   "cell_type": "markdown",
   "metadata": {
    "slideshow": {
     "slide_type": "slide"
    }
   },
   "source": [
    "# Semantic segmentation"
   ]
  },
  {
   "cell_type": "markdown",
   "metadata": {
    "slideshow": {
     "slide_type": "slide"
    }
   },
   "source": [
    "<img src='imgs/semantic_segmentation.jpg' width=600 />"
   ]
  },
  {
   "cell_type": "markdown",
   "metadata": {
    "slideshow": {
     "slide_type": "slide"
    }
   },
   "source": [
    "# Бородатые методы\n",
    "<img src='imgs/PaiMeiPromo.jpg' width=300 />"
   ]
  },
  {
   "cell_type": "markdown",
   "metadata": {
    "slideshow": {
     "slide_type": "slide"
    }
   },
   "source": [
    "Общий принцип:\n",
    "```\n",
    "#include <opencv2/imgproc/imgproc.hpp>\n",
    "```\n",
    "\n",
    "Техники:\n",
    "* Просто `threshold`\n",
    "* Не просто `threshold` -- `otsu threshold`\n",
    "* Сегментация на основе граней, ребер и т.д.\n",
    "* Сегментация через кластеризацию\n",
    "\n",
    "\n",
    "Два примера из `sklearn` и `scikit-image`:\n",
    "* https://scikit-learn.org/stable/auto_examples/cluster/plot_coin_segmentation.html\n",
    "* https://scikit-image.org/docs/dev/user_guide/tutorial_segmentation.html"
   ]
  },
  {
   "cell_type": "markdown",
   "metadata": {
    "slideshow": {
     "slide_type": "slide"
    }
   },
   "source": [
    "# https://scikit-learn.org/stable/auto_examples/cluster/plot_coin_segmentation.html\n",
    "\n",
    "Спектральная кластеризация.  \n",
    "  \n",
    "# https://scikit-image.org/docs/dev/user_guide/tutorial_segmentation.html\n",
    "* подбор порога для ч/б картинки\n",
    "* детекция по ребрам\n",
    "    * детектор ребер Canny\n",
    "    * заполнение \"дыр\"\n",
    "* детекция по регионам\n",
    "    * оператор Собеля\n",
    "    * watershed"
   ]
  },
  {
   "cell_type": "markdown",
   "metadata": {
    "slideshow": {
     "slide_type": "slide"
    }
   },
   "source": [
    "# Оператор Собеля\n",
    "Две свертки:\n",
    "\n",
    "$$\\LARGE G_1 =  \\begin{bmatrix} -1&0&+1\\\\ -2&0&+2\\\\-1&0&+1 \\end{bmatrix}$$\n",
    "\n",
    "$$\\LARGE G_2 =  \\begin{bmatrix} -1&-2&-1\\\\ 0&0&0\\\\+1&+2&+1 \\end{bmatrix}$$"
   ]
  },
  {
   "cell_type": "markdown",
   "metadata": {
    "slideshow": {
     "slide_type": "slide"
    }
   },
   "source": [
    "Собель - оригинал и результат\n",
    "<table><tr>\n",
    "<td><img src='imgs/sobel_original.png' width=300 /></td> \n",
    "<td><img src='imgs/sobel.png' width=300 /></td>\n",
    "</tr></table>"
   ]
  },
  {
   "cell_type": "markdown",
   "metadata": {
    "slideshow": {
     "slide_type": "slide"
    }
   },
   "source": [
    "# Watershed\n",
    "\n",
    "Семейство алгоритмов, заливающих изображение по принципам FloodFill\n",
    "\n",
    "Пример - алгоритм Майера(ну примерно так):\n",
    "* Выбираем стартовые точки\n",
    "* От каждой стартовой точки делаем заливку пока не упремся слишком сильное изменение тона изображения\n",
    "\n",
    "\n",
    "* Есть множество других идей как делать то же самое\n",
    "* Есть алгоритмы на основе глубоких сетей(https://arxiv.org/pdf/1611.08303.pdf)"
   ]
  },
  {
   "cell_type": "markdown",
   "metadata": {
    "slideshow": {
     "slide_type": "slide"
    }
   },
   "source": [
    "# Современные методы"
   ]
  },
  {
   "cell_type": "markdown",
   "metadata": {
    "slideshow": {
     "slide_type": "slide"
    }
   },
   "source": [
    "Попробуем скользящее окно - для каждого участка будем классифицировать его(допустим) центр.\n",
    "<img src='imgs/fcn_rolling_window.jpg' width=800 />\n",
    "\n",
    "Это неэффективно -- мы не переиспользуем данные с перекрывающихся частей изображения."
   ]
  },
  {
   "cell_type": "markdown",
   "metadata": {
    "slideshow": {
     "slide_type": "slide"
    }
   },
   "source": [
    "# Сделаем предсказания сразу же со всего изображения\n",
    "\n",
    "<img src='imgs/fcn2.jpg' width=800 />\n",
    "(конечно, много сверток будет трудно считать)"
   ]
  },
  {
   "cell_type": "markdown",
   "metadata": {
    "slideshow": {
     "slide_type": "slide"
    }
   },
   "source": [
    "<img src='imgs/fcn3.jpg' width=800 />"
   ]
  },
  {
   "cell_type": "markdown",
   "metadata": {
    "slideshow": {
     "slide_type": "slide"
    }
   },
   "source": [
    "# Upsampling"
   ]
  },
  {
   "cell_type": "markdown",
   "metadata": {
    "slideshow": {
     "slide_type": "slide"
    }
   },
   "source": [
    "<img src='imgs/upsampl1.jpg' width=800 />"
   ]
  },
  {
   "cell_type": "markdown",
   "metadata": {
    "slideshow": {
     "slide_type": "slide"
    }
   },
   "source": [
    "\n",
    "<table><tr>\n",
    "<td><img src='imgs/ups2.jpg' width=600 /></td> \n",
    "<td><img src='imgs/ups3.jpg' width=600 /></td>\n",
    "</tr></table>"
   ]
  },
  {
   "cell_type": "markdown",
   "metadata": {
    "slideshow": {
     "slide_type": "slide"
    }
   },
   "source": [
    "## Короткий список обычных интерполяций:\n",
    "* Bilinear\n",
    "* Bicubic\n",
    "* Spline\n",
    "* Sinc\n",
    "* Lanczos\n",
    "* много других"
   ]
  },
  {
   "cell_type": "markdown",
   "metadata": {
    "slideshow": {
     "slide_type": "slide"
    }
   },
   "source": [
    "<img src='imgs/interpolations.png'/>"
   ]
  },
  {
   "cell_type": "markdown",
   "metadata": {
    "slideshow": {
     "slide_type": "slide"
    }
   },
   "source": [
    "\n",
    "# Transpose Convolution"
   ]
  },
  {
   "cell_type": "markdown",
   "metadata": {
    "slideshow": {
     "slide_type": "slide"
    }
   },
   "source": [
    "<center><h1> 3 x 3 transpose convolution, stride 2 pad 1</h1></center>\n",
    "<img src='imgs/transp_c1.jpg' width=600 />"
   ]
  },
  {
   "cell_type": "markdown",
   "metadata": {
    "slideshow": {
     "slide_type": "slide"
    }
   },
   "source": [
    "<img src='imgs/ups4.jpg' width=600 />\n",
    "\n",
    "* Фильтр сдвигается на 2 пикселя для каждого пикселя на входе\n",
    "* stride - отношение между выходом и входом"
   ]
  },
  {
   "cell_type": "markdown",
   "metadata": {
    "slideshow": {
     "slide_type": "slide"
    }
   },
   "source": [
    "# Transpose Convolution\n",
    "Одномерный случай"
   ]
  },
  {
   "cell_type": "markdown",
   "metadata": {
    "collapsed": true,
    "slideshow": {
     "slide_type": "slide"
    }
   },
   "source": [
    "<img src='imgs/1d_conv.png'/>"
   ]
  },
  {
   "cell_type": "markdown",
   "metadata": {
    "collapsed": true,
    "slideshow": {
     "slide_type": "slide"
    }
   },
   "source": [
    "### Свертка(обычная) как умножение матриц\n",
    "\n",
    "$$ \\LARGE \\vec{x} * \\vec{a} = X \\vec{a}$$\n",
    "\n",
    "$$ \\LARGE \\begin{bmatrix} x& y & z& 0 &0 &0 \\\\0 & x& y & z& 0 &0 \\\\ 0& 0& x& y & z& 0  \\\\ 0& 0 &0& x& y & z  \\end{bmatrix} *\\begin{bmatrix} 0 \\\\ a\\\\b\\\\c\\\\d\\\\0 \\end{bmatrix}= \\begin{bmatrix} ay+bz \\\\ ax+by+cz\\\\bx+cy+dz\\\\cx+dy \\end{bmatrix} $$"
   ]
  },
  {
   "cell_type": "markdown",
   "metadata": {
    "collapsed": true,
    "slideshow": {
     "slide_type": "slide"
    }
   },
   "source": [
    "### И транспонированная\n",
    "$$ \\LARGE \\vec{x}^T * \\vec{a} = X^T \\vec{a}$$\n",
    "    \n",
    "$$ \\LARGE \\begin{bmatrix} x&0 &0&0 \\\\y& x & 0 &0 \\\\ z& y& x& 0  \\\\ 0& z &y& x \\\\ 0&0&z&y\\\\0&0&0&z  \\end{bmatrix} *\\begin{bmatrix}a\\\\b\\\\c\\\\d \\end{bmatrix}= \\begin{bmatrix} ax \\\\ ay+bx\\\\az+by+cx\\\\bz+cy+dx\\\\cz+dy\\\\dz \\end{bmatrix} $$"
   ]
  },
  {
   "cell_type": "markdown",
   "metadata": {
    "slideshow": {
     "slide_type": "slide"
    }
   },
   "source": [
    "# FCN\n",
    "\n",
    "<img src='imgs/fcn1.jpg'/>\n",
    "\n",
    "https://github.com/aurora95/Keras-FCN"
   ]
  },
  {
   "cell_type": "markdown",
   "metadata": {
    "collapsed": true,
    "slideshow": {
     "slide_type": "slide"
    }
   },
   "source": [
    "Один блок в FCN\n",
    "```\n",
    "x = Conv2D(64, (3, 3), activation='relu', \n",
    "    padding='same', \n",
    "    name='block1_conv1', \n",
    "    kernel_regularizer=l2(weight_decay))(img_input)\n",
    "x = Conv2D(64, (3, 3), activation='relu', \n",
    "    padding='same', \n",
    "    name='block1_conv2', \n",
    "    kernel_regularizer=l2(weight_decay))(x)\n",
    "x = MaxPooling2D((2, 2), strides=(2, 2), name='block1_pool')(x)\n",
    "```"
   ]
  },
  {
   "cell_type": "markdown",
   "metadata": {
    "collapsed": true,
    "slideshow": {
     "slide_type": "slide"
    }
   },
   "source": [
    "Типичный FCN FCN_32s из первого попавшегося репозитория на гитхабе.\n",
    "\n",
    "1. Блоки со свертками по:\n",
    "    * 64\n",
    "    * 128\n",
    "    * 256\n",
    "    * 512\n",
    "    * 512\n",
    "\n",
    "2. Полносвязный слой(ну как бы полносвязный, часто заменяется свертками 1 * 1)\n",
    "3. BilinearUpsampling2D (:и так сойдет:) - но можно заменить и на Conv2DTranspose"
   ]
  },
  {
   "cell_type": "markdown",
   "metadata": {
    "collapsed": true,
    "slideshow": {
     "slide_type": "slide"
    }
   },
   "source": [
    "Вариации и их работа:\n",
    "<img src='imgs/fcn_variations.png'/>"
   ]
  },
  {
   "cell_type": "markdown",
   "metadata": {
    "slideshow": {
     "slide_type": "slide"
    }
   },
   "source": [
    "## Другой репозиторий\n",
    "https://github.com/veugene/fcn_maker\n",
    "\n",
    "Вообще конструктор разнообразных FCN|VNET|UNET\n",
    "\n",
    "\n",
    "Блоки(общие для более-менее всех сетей):\n",
    "1. Preprocessor\n",
    "2. Encoder blocks\n",
    "3. Bottleneck (across blocks)\n",
    "4. Decoder blocks\n",
    "5. Postprocessor\n"
   ]
  },
  {
   "cell_type": "markdown",
   "metadata": {
    "slideshow": {
     "slide_type": "slide"
    }
   },
   "source": [
    "# UNET\n",
    "<img src='imgs/unet.png'/>"
   ]
  },
  {
   "cell_type": "markdown",
   "metadata": {
    "slideshow": {
     "slide_type": "slide"
    }
   },
   "source": [
    "<img src='imgs/semantic_segmentation.png'/>"
   ]
  },
  {
   "cell_type": "markdown",
   "metadata": {
    "slideshow": {
     "slide_type": "slide"
    }
   },
   "source": [
    "# Отлично справляется с:\n",
    "1. спутниковыми снимками\n",
    "2. медициной\n",
    "3. машинами\n",
    "4. кажется, что да вообще со всем"
   ]
  },
  {
   "cell_type": "markdown",
   "metadata": {},
   "source": [
    "<img src='imgs/unet_carvana.png'/>"
   ]
  },
  {
   "cell_type": "markdown",
   "metadata": {
    "slideshow": {
     "slide_type": "slide"
    }
   },
   "source": [
    "# Функции потерь\n",
    "\n",
    "* BCE и Weighted BCE loss\n",
    "    * $\\LARGE CE(p, \\hat{p}) = -(\\beta p \\cdot log(\\hat{p})+ (1-\\beta)(1-p)\\cdot log(1-\\hat{p}))$\n",
    "    \n",
    "* Focal loss\n",
    "    * $\\LARGE CE(p, \\hat{p}) = -(\\alpha (1 - \\hat{p})^\\gamma \\cdot p \\cdot log(\\hat{p})+ (1-\\alpha)\\cdot p^\\gamma \\cdot(1-p)\\cdot log(1-\\hat{p}))$\n",
    "* IOU/DICE loss\n",
    "    * $\\LARGE DC = \\frac{2|X|\\cap|Y|}{|X|+|Y|}$\n",
    "    * $\\LARGE IoU = \\frac{|X|\\cap|Y|}{|X|+|Y| - |X|\\cap|Y|} = \\frac{TP}{TP+FP+FN}$    "
   ]
  },
  {
   "cell_type": "markdown",
   "metadata": {
    "slideshow": {
     "slide_type": "slide"
    }
   },
   "source": [
    "# Tiramisu\n",
    "<img src='imgs/tiramisu.png'/>"
   ]
  },
  {
   "cell_type": "markdown",
   "metadata": {
    "slideshow": {
     "slide_type": "slide"
    }
   },
   "source": [
    "# PSP Net\n",
    "<img src='imgs/psp_net.png'/>"
   ]
  },
  {
   "cell_type": "markdown",
   "metadata": {
    "slideshow": {
     "slide_type": "slide"
    }
   },
   "source": [
    "# SOURCE\n",
    "\n",
    "cs231n\n",
    "\n",
    "http://warmspringwinds.github.io/tensorflow/tf-slim/2016/11/22/upsampling-and-image-segmentation-with-tensorflow-and-tf-slim/\n",
    "\n",
    "https://medium.com/beyondminds/a-simple-guide-to-semantic-segmentation-effcf83e7e54"
   ]
  }
 ],
 "metadata": {
  "celltoolbar": "Slideshow",
  "kernelspec": {
   "display_name": "Python 3",
   "language": "python",
   "name": "python3"
  },
  "language_info": {
   "codemirror_mode": {
    "name": "ipython",
    "version": 3
   },
   "file_extension": ".py",
   "mimetype": "text/x-python",
   "name": "python",
   "nbconvert_exporter": "python",
   "pygments_lexer": "ipython3",
   "version": "3.7.1"
  }
 },
 "nbformat": 4,
 "nbformat_minor": 2
}
